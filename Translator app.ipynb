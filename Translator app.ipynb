{
 "cells": [
  {
   "cell_type": "code",
   "execution_count": 16,
   "id": "e4dbc479",
   "metadata": {
    "scrolled": true
   },
   "outputs": [
    {
     "name": "stdout",
     "output_type": "stream",
     "text": [
      "Defaulting to user installation because normal site-packages is not writeable\n",
      "Requirement already satisfied: pyspellchecker in c:\\users\\sofia gupta\\appdata\\roaming\\python\\python310\\site-packages (0.7.2)\n"
     ]
    }
   ],
   "source": [
    "!pip install pyspellchecker"
   ]
  },
  {
   "cell_type": "code",
   "execution_count": 17,
   "id": "cedf278a",
   "metadata": {
    "scrolled": true
   },
   "outputs": [
    {
     "name": "stdout",
     "output_type": "stream",
     "text": [
      "Defaulting to user installation because normal site-packages is not writeable\n",
      "Requirement already satisfied: pattern in c:\\users\\sofia gupta\\appdata\\roaming\\python\\python310\\site-packages (3.6)\n",
      "Requirement already satisfied: pdfminer.six in c:\\users\\sofia gupta\\appdata\\roaming\\python\\python310\\site-packages (from pattern) (20221105)\n",
      "Requirement already satisfied: python-docx in c:\\users\\sofia gupta\\appdata\\roaming\\python\\python310\\site-packages (from pattern) (0.8.11)\n",
      "Requirement already satisfied: future in c:\\programdata\\anaconda3\\lib\\site-packages (from pattern) (0.18.3)\n",
      "Requirement already satisfied: cherrypy in c:\\users\\sofia gupta\\appdata\\roaming\\python\\python310\\site-packages (from pattern) (18.8.0)\n",
      "Requirement already satisfied: nltk in c:\\programdata\\anaconda3\\lib\\site-packages (from pattern) (3.7)\n",
      "Requirement already satisfied: numpy in c:\\programdata\\anaconda3\\lib\\site-packages (from pattern) (1.23.5)\n",
      "Requirement already satisfied: beautifulsoup4 in c:\\programdata\\anaconda3\\lib\\site-packages (from pattern) (4.11.1)\n",
      "Requirement already satisfied: lxml in c:\\programdata\\anaconda3\\lib\\site-packages (from pattern) (4.9.1)\n",
      "Requirement already satisfied: backports.csv in c:\\users\\sofia gupta\\appdata\\roaming\\python\\python310\\site-packages (from pattern) (1.0.7)\n",
      "Requirement already satisfied: mysqlclient in c:\\users\\sofia gupta\\appdata\\roaming\\python\\python310\\site-packages (from pattern) (2.2.0)\n",
      "Requirement already satisfied: feedparser in c:\\users\\sofia gupta\\appdata\\roaming\\python\\python310\\site-packages (from pattern) (6.0.10)\n",
      "Requirement already satisfied: requests in c:\\programdata\\anaconda3\\lib\\site-packages (from pattern) (2.28.1)\n",
      "Requirement already satisfied: scipy in c:\\programdata\\anaconda3\\lib\\site-packages (from pattern) (1.10.0)\n",
      "Requirement already satisfied: soupsieve>1.2 in c:\\programdata\\anaconda3\\lib\\site-packages (from beautifulsoup4->pattern) (2.3.2.post1)\n",
      "Requirement already satisfied: portend>=2.1.1 in c:\\users\\sofia gupta\\appdata\\roaming\\python\\python310\\site-packages (from cherrypy->pattern) (3.2.0)\n",
      "Requirement already satisfied: jaraco.collections in c:\\users\\sofia gupta\\appdata\\roaming\\python\\python310\\site-packages (from cherrypy->pattern) (4.3.0)\n",
      "Requirement already satisfied: zc.lockfile in c:\\users\\sofia gupta\\appdata\\roaming\\python\\python310\\site-packages (from cherrypy->pattern) (3.0.post1)\n",
      "Requirement already satisfied: more-itertools in c:\\users\\sofia gupta\\appdata\\roaming\\python\\python310\\site-packages (from cherrypy->pattern) (9.1.0)\n",
      "Requirement already satisfied: cheroot>=8.2.1 in c:\\users\\sofia gupta\\appdata\\roaming\\python\\python310\\site-packages (from cherrypy->pattern) (10.0.0)\n",
      "Requirement already satisfied: sgmllib3k in c:\\users\\sofia gupta\\appdata\\roaming\\python\\python310\\site-packages (from feedparser->pattern) (1.0.0)\n",
      "Requirement already satisfied: tqdm in c:\\programdata\\anaconda3\\lib\\site-packages (from nltk->pattern) (4.64.1)\n",
      "Requirement already satisfied: joblib in c:\\programdata\\anaconda3\\lib\\site-packages (from nltk->pattern) (1.1.1)\n",
      "Requirement already satisfied: regex>=2021.8.3 in c:\\programdata\\anaconda3\\lib\\site-packages (from nltk->pattern) (2022.7.9)\n",
      "Requirement already satisfied: click in c:\\programdata\\anaconda3\\lib\\site-packages (from nltk->pattern) (8.0.4)\n",
      "Requirement already satisfied: cryptography>=36.0.0 in c:\\programdata\\anaconda3\\lib\\site-packages (from pdfminer.six->pattern) (39.0.1)\n",
      "Requirement already satisfied: charset-normalizer>=2.0.0 in c:\\programdata\\anaconda3\\lib\\site-packages (from pdfminer.six->pattern) (2.0.4)\n",
      "Requirement already satisfied: idna<4,>=2.5 in c:\\users\\sofia gupta\\appdata\\roaming\\python\\python310\\site-packages (from requests->pattern) (2.10)\n",
      "Requirement already satisfied: urllib3<1.27,>=1.21.1 in c:\\programdata\\anaconda3\\lib\\site-packages (from requests->pattern) (1.26.14)\n",
      "Requirement already satisfied: certifi>=2017.4.17 in c:\\programdata\\anaconda3\\lib\\site-packages (from requests->pattern) (2022.12.7)\n",
      "Requirement already satisfied: jaraco.functools in c:\\users\\sofia gupta\\appdata\\roaming\\python\\python310\\site-packages (from cheroot>=8.2.1->cherrypy->pattern) (3.8.0)\n",
      "Requirement already satisfied: cffi>=1.12 in c:\\programdata\\anaconda3\\lib\\site-packages (from cryptography>=36.0.0->pdfminer.six->pattern) (1.15.1)\n",
      "Requirement already satisfied: tempora>=1.8 in c:\\users\\sofia gupta\\appdata\\roaming\\python\\python310\\site-packages (from portend>=2.1.1->cherrypy->pattern) (5.5.0)\n",
      "Requirement already satisfied: colorama in c:\\programdata\\anaconda3\\lib\\site-packages (from click->nltk->pattern) (0.4.6)\n",
      "Requirement already satisfied: jaraco.text in c:\\users\\sofia gupta\\appdata\\roaming\\python\\python310\\site-packages (from jaraco.collections->cherrypy->pattern) (3.11.1)\n",
      "Requirement already satisfied: setuptools in c:\\programdata\\anaconda3\\lib\\site-packages (from zc.lockfile->cherrypy->pattern) (65.6.3)\n",
      "Requirement already satisfied: pycparser in c:\\programdata\\anaconda3\\lib\\site-packages (from cffi>=1.12->cryptography>=36.0.0->pdfminer.six->pattern) (2.21)\n",
      "Requirement already satisfied: pytz in c:\\programdata\\anaconda3\\lib\\site-packages (from tempora>=1.8->portend>=2.1.1->cherrypy->pattern) (2022.7)\n",
      "Requirement already satisfied: autocommand in c:\\users\\sofia gupta\\appdata\\roaming\\python\\python310\\site-packages (from jaraco.text->jaraco.collections->cherrypy->pattern) (2.2.2)\n",
      "Requirement already satisfied: jaraco.context>=4.1 in c:\\users\\sofia gupta\\appdata\\roaming\\python\\python310\\site-packages (from jaraco.text->jaraco.collections->cherrypy->pattern) (4.3.0)\n",
      "Requirement already satisfied: inflect in c:\\users\\sofia gupta\\appdata\\roaming\\python\\python310\\site-packages (from jaraco.text->jaraco.collections->cherrypy->pattern) (7.0.0)\n",
      "Requirement already satisfied: pydantic>=1.9.1 in c:\\users\\sofia gupta\\appdata\\roaming\\python\\python310\\site-packages (from inflect->jaraco.text->jaraco.collections->cherrypy->pattern) (1.10.11)\n",
      "Requirement already satisfied: typing-extensions in c:\\programdata\\anaconda3\\lib\\site-packages (from inflect->jaraco.text->jaraco.collections->cherrypy->pattern) (4.4.0)\n",
      "Defaulting to user installation because normal site-packages is not writeable\n",
      "Requirement already satisfied: autocorrect in c:\\users\\sofia gupta\\appdata\\roaming\\python\\python310\\site-packages (2.6.1)\n",
      "Defaulting to user installation because normal site-packages is not writeable\n",
      "Requirement already satisfied: textblob in c:\\users\\sofia gupta\\appdata\\roaming\\python\\python310\\site-packages (0.17.1)\n",
      "Requirement already satisfied: nltk>=3.1 in c:\\programdata\\anaconda3\\lib\\site-packages (from textblob) (3.7)\n",
      "Requirement already satisfied: click in c:\\programdata\\anaconda3\\lib\\site-packages (from nltk>=3.1->textblob) (8.0.4)\n",
      "Requirement already satisfied: regex>=2021.8.3 in c:\\programdata\\anaconda3\\lib\\site-packages (from nltk>=3.1->textblob) (2022.7.9)\n",
      "Requirement already satisfied: tqdm in c:\\programdata\\anaconda3\\lib\\site-packages (from nltk>=3.1->textblob) (4.64.1)\n",
      "Requirement already satisfied: joblib in c:\\programdata\\anaconda3\\lib\\site-packages (from nltk>=3.1->textblob) (1.1.1)\n",
      "Requirement already satisfied: colorama in c:\\programdata\\anaconda3\\lib\\site-packages (from click->nltk>=3.1->textblob) (0.4.6)\n",
      "Defaulting to user installation because normal site-packages is not writeable\n",
      "Requirement already satisfied: textdistance in c:\\programdata\\anaconda3\\lib\\site-packages (4.2.1)\n"
     ]
    }
   ],
   "source": [
    "!pip install pattern \n",
    "!pip install autocorrect\n",
    "!pip install textblob\n",
    "!pip install textdistance"
   ]
  },
  {
   "cell_type": "code",
   "execution_count": 20,
   "id": "f85f302a",
   "metadata": {},
   "outputs": [
    {
     "name": "stdout",
     "output_type": "stream",
     "text": [
      "Translation Error: 'NoneType' object has no attribute 'group'\n",
      "Translated text: None\n"
     ]
    }
   ],
   "source": [
    "from googletrans import Translator\n",
    "\n",
    "translator = Translator(service_urls=['translate.google.com'])\n",
    "\n",
    "def translate_text(text, source_lang, target_lang):\n",
    "    try:\n",
    "        translation = translator.translate(text, src=source_lang, dest=target_lang)\n",
    "        if translation is not None:\n",
    "            return translation.text\n",
    "        else:\n",
    "            return \"Translation failed.\"\n",
    "    except Exception as e:\n",
    "        print(\"Translation Error:\", str(e))\n",
    "        return None\n",
    "\n",
    "\n",
    "source_text = \"Hello, This is Krishna teja\"\n",
    "source_language = \"en\" \n",
    "target_language = \"telugu\"\n",
    "\n",
    "translated_text = translate_text(source_text, source_language, target_language) \n",
    "print(\"Translated text:\", translated_text)\n",
    "\n",
    "\n"
   ]
  },
  {
   "cell_type": "code",
   "execution_count": null,
   "id": "b04d87eb",
   "metadata": {},
   "outputs": [],
   "source": []
  }
 ],
 "metadata": {
  "kernelspec": {
   "display_name": "Python 3 (ipykernel)",
   "language": "python",
   "name": "python3"
  },
  "language_info": {
   "codemirror_mode": {
    "name": "ipython",
    "version": 3
   },
   "file_extension": ".py",
   "mimetype": "text/x-python",
   "name": "python",
   "nbconvert_exporter": "python",
   "pygments_lexer": "ipython3",
   "version": "3.10.9"
  }
 },
 "nbformat": 4,
 "nbformat_minor": 5
}
